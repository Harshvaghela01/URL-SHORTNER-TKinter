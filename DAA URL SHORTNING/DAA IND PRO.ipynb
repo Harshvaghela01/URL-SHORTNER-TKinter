{
 "cells": [
  {
   "cell_type": "code",
   "execution_count": 4,
   "id": "6dd22ac9",
   "metadata": {},
   "outputs": [
    {
     "name": "stdout",
     "output_type": "stream",
     "text": [
      "Short URL from 12345 is :  dnh\n",
      "ID from dnh is :  12345\n"
     ]
    }
   ],
   "source": [
    "# Python3 code for above approach  \n",
    "def idToShortURL(id): \n",
    "    map = \"abcdefghijklmnopqrstuvwxyzABCDEFGHIJKLMNOPQRSTUVWXYZ0123456789\"\n",
    "    shortURL = \"\" \n",
    "      \n",
    "    # for each digit find the base 62 \n",
    "    while(id > 0): \n",
    "        shortURL += map[id % 62] \n",
    "        id //= 62\n",
    "  \n",
    "    # reversing the shortURL \n",
    "    return shortURL[len(shortURL): : -1] \n",
    "  \n",
    "def shortURLToId(shortURL): \n",
    "    id = 0\n",
    "    for i in shortURL: \n",
    "        val_i = ord(i) \n",
    "        if(val_i >= ord('a') and val_i <= ord('z')): \n",
    "            id = id*62 + val_i - ord('a') \n",
    "        elif(val_i >= ord('A') and val_i <= ord('Z')): \n",
    "            id = id*62 + val_i - ord('A') + 26\n",
    "        else: \n",
    "            id = id*62 + val_i - ord('0') + 52\n",
    "    return id\n",
    "  \n",
    "if (__name__ == \"__main__\"): \n",
    "    id = 12345\n",
    "    shortURL = idToShortURL(id) \n",
    "    print(\"Short URL from 12345 is : \", shortURL) \n",
    "    print(\"ID from\", shortURL, \"is : \", shortURLToId(shortURL)) "
   ]
  },
  {
   "cell_type": "code",
   "execution_count": null,
   "id": "814e73a3",
   "metadata": {},
   "outputs": [],
   "source": []
  },
  {
   "cell_type": "code",
   "execution_count": null,
   "id": "8c306fa1",
   "metadata": {},
   "outputs": [],
   "source": [
    "import requests "
   ]
  },
  {
   "cell_type": "code",
   "execution_count": null,
   "id": "5f3b1545",
   "metadata": {},
   "outputs": [],
   "source": [
    "import sys  "
   ]
  },
  {
   "cell_type": "code",
   "execution_count": null,
   "id": "2dddd26d",
   "metadata": {},
   "outputs": [],
   "source": [
    "import requests  \n",
    "import sys  \n",
    "  \n",
    "#A sample python code to shorten a URL with the use of cutt.ly APIs with different options.  \n",
    "class URLHandler:  \n",
    "  \n",
    "    #constructor to initialize the class variables that will be used for the initializing the class variables of the above-written class  \n",
    "    def __init__(self):  \n",
    "        self.api_key = None  \n",
    "        self.shortened_url = None  \n",
    "        self.exception_encountered  = None  \n",
    "  \n",
    "# A sample function that will be sued to Set the  API value  which we will use to shorten the input URL that will be provided by the user  \n",
    "    def set_api_url(self):  \n",
    "        print(\"enter the api key of the service account::\")  \n",
    "        input_api_key = input()  \n",
    "        self.api_url = input_api_key  \n",
    "  \n",
    "#  this function is a written explicitly  to take an input URL from the user that will be used to short  \n",
    "    def get_input_url(self):  \n",
    "        print(\"Enter the URL that you want to shorten.\")  \n",
    "        url_to_shorten = input()  \n",
    "        return url_to_shorten  \n",
    "  \n",
    "#  this function is written to perform the shorter operation on the input URL there is one parameter that is specified for this particular function and this parameter is the URL  parameter that is representing the input URL provided by the user.  try-catch block is implemented in this function so that if some exception is encountered while shortening the input URL which is provided by the user that  exception is handled  and the value of the shortened URL variable is set to none which represents that there is some error exception which is encountered while performing the shortening operation of the specified URL,  and if the operation is successful and no error exception is encountering while shortening the input URL provided by the user the shorten URL variable is set with the actual shorten URL which is returned by the API call that we have given in this function If the exception or errors encountered while shortening the input URL there are a couple of steps that are performed first of all the shortened URL variable is set to none representing there is an exception and along with that the message associated with the exception or error which is encounter is also printed to the user representing the root cause of the exception that is encounter   \n",
    "    def shorten_url(self,url):  \n",
    "        api_url = f\"https://cutt.ly/api/api.php?key={self.api_key}&short={url}\"  \n",
    "        request_return_obj = requests.get(self.api_url).json()[\"url\"]  \n",
    "          \n",
    "        try:  \n",
    "            if request_return_obj[\"status\"] == 7:  \n",
    "                self.shortened_url = request_return_obj[\"shortLink\"]  \n",
    "            else:  \n",
    "                self.shortened_url = None      \n",
    "        except Exception as e:  \n",
    "            self.exception_encountered  = e  \n",
    "              \n",
    "          \n",
    "  \n",
    "  \n",
    "# This function is written to print the result of the above Return function,  the printing of the shortened URL is done with the logic,  we have an if else block checking whether the shortening of URL operation is performed successfully or not,  for that, we are checking the value of the shortened URL variable if the value is not set to null then that means the operation is performed successfully and that particular URL is printed which is shortened on the other hand if the value is set to none that means there is some exception which is encountered during the shortening operation so in that case the associated exception or error message which is encountered during that operation is presented to the user   \n",
    "    def print_shortened_url(self):  \n",
    "  \n",
    "        if self.shortened_url:  \n",
    "            print(\"Shortened URL: {}\".format(self.shortened_url))  \n",
    "        else :  \n",
    "            print(\"URL shortening got an exception {}.\".format(self.exception_encountered))  \n",
    "  \n",
    "  \n",
    "  \n",
    "# And this is the main function in this function the object of the above-written class is created and that object is used to call all the above-written functions inside that class,  the user is given multiple options like to enter the API key of the service account,  to enter the URL which the user wants to shorten,  to perform the actual shortening operation of the specified input URL,   once the sorting operation is performed successfully the user can print the URL which is shortened,  and in the last option user can accept the code execution by opting the last and final option,  appropriate input is taken from the user and appropriate output is given according to the option which is selected by the user to perform the operation.  \n",
    "def main():  \n",
    "      \n",
    "    shortner =  URLHandler()  \n",
    "    url = None  \n",
    "    while(True):  \n",
    "        print(\"Please choose any one of the operations from the listed below the list of operations::\")  \n",
    "        print(\"1. To enter the API key for the service account.\")  \n",
    "        print(\"2. To enter the URL which you want to shorten.\")  \n",
    "        print(\"3. To perform the operation of shortening the URL.\")  \n",
    "        print(\"4. To print the URL which is shortened.\")  \n",
    "        print(\"5. To exit from the code execution.\")  \n",
    "          \n",
    "        menu_choice = input()  \n",
    "        menu_choice = int(menu_choice)  \n",
    "  \n",
    "        if menu_choice == 1:  \n",
    "            shortner.set_api_url()  \n",
    "        elif menu_choice == 2:  \n",
    "            url = shortner.get_input_url()  \n",
    "        elif menu_choice == 3:  \n",
    "            # shortner.shorten_url(url)  \n",
    "            print(\"URL shortned successfully.\")  \n",
    "        elif menu_choice == 4:  \n",
    "            shortner.print_shortened_url()  \n",
    "        elif menu_choice == 5:  \n",
    "            sys.exit()  \n",
    "          \n",
    "        print(\"To keep on going with code execution, type [y] otherwise [n].\")  \n",
    "        continue_or_exit = input()  \n",
    "  \n",
    "        if continue_or_exit == 'y' or continue_or_exit == 'Y':  \n",
    "            pass  \n",
    "        elif continue_or_exit == 'n' or continue_or_exit == 'N':  \n",
    "            sys.exit()  \n",
    "  \n",
    "if __name__ == '__main__':  \n",
    "    main()  "
   ]
  },
  {
   "cell_type": "code",
   "execution_count": null,
   "id": "7a154568",
   "metadata": {},
   "outputs": [],
   "source": []
  },
  {
   "cell_type": "code",
   "execution_count": null,
   "id": "24af5dd9",
   "metadata": {},
   "outputs": [],
   "source": [
    "pip install pyshorteners\n"
   ]
  },
  {
   "cell_type": "code",
   "execution_count": null,
   "id": "e4810df7",
   "metadata": {
    "scrolled": true
   },
   "outputs": [],
   "source": [
    "import pyshorteners\n",
    "\n",
    "class link():\n",
    "    \n",
    "     link = input(\"enter the link:\") #variable\n",
    "     shortener = pyshorteners.Shortener() #class object\n",
    "\n",
    "     x = shortener.tinyurl.short(link) #shorting the link \n",
    "\n",
    "     print(x) "
   ]
  },
  {
   "cell_type": "code",
   "execution_count": null,
   "id": "43a6421c",
   "metadata": {},
   "outputs": [],
   "source": []
  },
  {
   "cell_type": "code",
   "execution_count": 3,
   "id": "054a41b4",
   "metadata": {},
   "outputs": [
    {
     "name": "stdout",
     "output_type": "stream",
     "text": [
      "-0x68e1b64146d37182\n",
      "http://localhost:8888/notebooks/Untitled%20Folder%201/DAA%20IND%20PRO.ipynb\n"
     ]
    }
   ],
   "source": [
    "class TinyURL:\n",
    "    def __init__(self):\n",
    "        self.storedURLS = {}\n",
    "\n",
    "    def encode(self, long):\n",
    "        tiny = hex(hash(long))\n",
    "        self.storedURLS[tiny] = long\n",
    "        return tiny\n",
    "\n",
    "    def decode(self, tiny):\n",
    "        if tiny in self.storedURLS:\n",
    "            return self.storedURLS[tiny]\n",
    "        else:\n",
    "            return \"Tiny URL is not in the database\"\n",
    "\n",
    "t = TinyURL()\n",
    "encoded = t.encode(\"http://localhost:8888/notebooks/Untitled%20Folder%201/DAA%20IND%20PRO.ipynb\")\n",
    "print(encoded)\n",
    "decoded = t.decode(encoded)\n",
    "print(decoded)"
   ]
  },
  {
   "cell_type": "code",
   "execution_count": 1,
   "id": "5d8fec7f",
   "metadata": {},
   "outputs": [
    {
     "name": "stdout",
     "output_type": "stream",
     "text": [
      "Note: you may need to restart the kernel to use updated packages.\n"
     ]
    },
    {
     "name": "stderr",
     "output_type": "stream",
     "text": [
      "ERROR: Could not find a version that satisfies the requirement tkinter (from versions: none)\n",
      "ERROR: No matching distribution found for tkinter\n"
     ]
    }
   ],
   "source": [
    "pip install tkinter"
   ]
  },
  {
   "cell_type": "code",
   "execution_count": 5,
   "id": "48a93614",
   "metadata": {},
   "outputs": [
    {
     "name": "stdout",
     "output_type": "stream",
     "text": [
      "Requirement already satisfied: pyshorteners in c:\\users\\harsh\\anaconda3\\lib\\site-packages (1.0.1)\n",
      "Requirement already satisfied: requests in c:\\users\\harsh\\anaconda3\\lib\\site-packages (from pyshorteners) (2.31.0)\n",
      "Requirement already satisfied: charset-normalizer<4,>=2 in c:\\users\\harsh\\anaconda3\\lib\\site-packages (from requests->pyshorteners) (2.0.4)\n",
      "Requirement already satisfied: idna<4,>=2.5 in c:\\users\\harsh\\anaconda3\\lib\\site-packages (from requests->pyshorteners) (3.4)\n",
      "Requirement already satisfied: urllib3<3,>=1.21.1 in c:\\users\\harsh\\anaconda3\\lib\\site-packages (from requests->pyshorteners) (1.26.16)\n",
      "Requirement already satisfied: certifi>=2017.4.17 in c:\\users\\harsh\\anaconda3\\lib\\site-packages (from requests->pyshorteners) (2023.11.17)\n",
      "Note: you may need to restart the kernel to use updated packages.\n"
     ]
    }
   ],
   "source": [
    "pip install pyshorteners"
   ]
  },
  {
   "cell_type": "code",
   "execution_count": 8,
   "id": "9429c996",
   "metadata": {},
   "outputs": [
    {
     "name": "stdout",
     "output_type": "stream",
     "text": [
      "Collecting pyperclip\n",
      "  Downloading pyperclip-1.8.2.tar.gz (20 kB)\n",
      "  Preparing metadata (setup.py): started\n",
      "  Preparing metadata (setup.py): finished with status 'done'\n",
      "Building wheels for collected packages: pyperclip\n",
      "  Building wheel for pyperclip (setup.py): started\n",
      "  Building wheel for pyperclip (setup.py): finished with status 'done'\n",
      "  Created wheel for pyperclip: filename=pyperclip-1.8.2-py3-none-any.whl size=11137 sha256=c9793f8d124fed06dded29940a617fe2f36760a0ea36a58ef6c0d4faf8729e64\n",
      "  Stored in directory: c:\\users\\harsh\\appdata\\local\\pip\\cache\\wheels\\70\\bd\\ba\\8ae5c080c895c9360fe6e153acda2dee82527374467eae061b\n",
      "Successfully built pyperclip\n",
      "Installing collected packages: pyperclip\n",
      "Successfully installed pyperclip-1.8.2\n",
      "Note: you may need to restart the kernel to use updated packages.\n"
     ]
    }
   ],
   "source": [
    "\n",
    "pip install pyperclip"
   ]
  },
  {
   "cell_type": "code",
   "execution_count": 9,
   "id": "a307cbd9",
   "metadata": {},
   "outputs": [
    {
     "ename": "NameError",
     "evalue": "name 'Tk' is not defined",
     "output_type": "error",
     "traceback": [
      "\u001b[1;31m---------------------------------------------------------------------------\u001b[0m",
      "\u001b[1;31mNameError\u001b[0m                                 Traceback (most recent call last)",
      "Cell \u001b[1;32mIn[9], line 1\u001b[0m\n\u001b[1;32m----> 1\u001b[0m root\u001b[38;5;241m=\u001b[39mTk()\n\u001b[0;32m      2\u001b[0m root\u001b[38;5;241m.\u001b[39mgeometry(\u001b[38;5;124m'\u001b[39m\u001b[38;5;124m600x300\u001b[39m\u001b[38;5;124m'\u001b[39m)\n\u001b[0;32m      3\u001b[0m root\u001b[38;5;241m.\u001b[39mtitle(\u001b[38;5;124m\"\u001b[39m\u001b[38;5;124mURL Shortener\u001b[39m\u001b[38;5;124m\"\u001b[39m)\n",
      "\u001b[1;31mNameError\u001b[0m: name 'Tk' is not defined"
     ]
    }
   ],
   "source": [
    "root=Tk()\n",
    "root.geometry('600x300')\n",
    "root.title(\"URL Shortener\")\n",
    "root.config(bg='#CAE1FF')"
   ]
  },
  {
   "cell_type": "code",
   "execution_count": null,
   "id": "7a68a2fe",
   "metadata": {},
   "outputs": [],
   "source": []
  }
 ],
 "metadata": {
  "kernelspec": {
   "display_name": "Python 3 (ipykernel)",
   "language": "python",
   "name": "python3"
  },
  "language_info": {
   "codemirror_mode": {
    "name": "ipython",
    "version": 3
   },
   "file_extension": ".py",
   "mimetype": "text/x-python",
   "name": "python",
   "nbconvert_exporter": "python",
   "pygments_lexer": "ipython3",
   "version": "3.11.5"
  }
 },
 "nbformat": 4,
 "nbformat_minor": 5
}
